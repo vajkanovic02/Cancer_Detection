{
 "cells": [
  {
   "cell_type": "code",
   "execution_count": 171,
   "id": "initial_id",
   "metadata": {
    "collapsed": true,
    "ExecuteTime": {
     "end_time": "2024-05-27T21:56:14.958148Z",
     "start_time": "2024-05-27T21:56:14.947097Z"
    }
   },
   "outputs": [],
   "source": [
    "import pandas as pd\n",
    "import matplotlib.pyplot as plt\n",
    "import seaborn as sns\n",
    "import numpy\n",
    "from sklearn.ensemble import IsolationForest"
   ]
  },
  {
   "cell_type": "markdown",
   "source": [
    "Mozemo zakljuciti da postoji kolona pod nazivom \"Unnamed 32\", koja ima sve NULL vrednosti i kao takva nam\n",
    "predstavlja smetnju i mozemo je ukloniti iz skupa. Takodje kolona \"id\" nema nikakvu povezanost sa\n",
    "koncanom vrednoscu skupa, tako i nju kao takvu mozemo ukloniti."
   ],
   "metadata": {
    "collapsed": false
   },
   "id": "bb866f3332dbc047"
  },
  {
   "cell_type": "code",
   "outputs": [
    {
     "name": "stdout",
     "output_type": "stream",
     "text": [
      "<class 'pandas.core.frame.DataFrame'>\n",
      "RangeIndex: 569 entries, 0 to 568\n",
      "Data columns (total 33 columns):\n",
      " #   Column                   Non-Null Count  Dtype  \n",
      "---  ------                   --------------  -----  \n",
      " 0   id                       569 non-null    int64  \n",
      " 1   diagnosis                569 non-null    object \n",
      " 2   radius_mean              569 non-null    float64\n",
      " 3   texture_mean             569 non-null    float64\n",
      " 4   perimeter_mean           569 non-null    float64\n",
      " 5   area_mean                569 non-null    float64\n",
      " 6   smoothness_mean          569 non-null    float64\n",
      " 7   compactness_mean         569 non-null    float64\n",
      " 8   concavity_mean           569 non-null    float64\n",
      " 9   concave points_mean      569 non-null    float64\n",
      " 10  symmetry_mean            569 non-null    float64\n",
      " 11  fractal_dimension_mean   569 non-null    float64\n",
      " 12  radius_se                569 non-null    float64\n",
      " 13  texture_se               569 non-null    float64\n",
      " 14  perimeter_se             569 non-null    float64\n",
      " 15  area_se                  569 non-null    float64\n",
      " 16  smoothness_se            569 non-null    float64\n",
      " 17  compactness_se           569 non-null    float64\n",
      " 18  concavity_se             569 non-null    float64\n",
      " 19  concave points_se        569 non-null    float64\n",
      " 20  symmetry_se              569 non-null    float64\n",
      " 21  fractal_dimension_se     569 non-null    float64\n",
      " 22  radius_worst             569 non-null    float64\n",
      " 23  texture_worst            569 non-null    float64\n",
      " 24  perimeter_worst          569 non-null    float64\n",
      " 25  area_worst               569 non-null    float64\n",
      " 26  smoothness_worst         569 non-null    float64\n",
      " 27  compactness_worst        569 non-null    float64\n",
      " 28  concavity_worst          569 non-null    float64\n",
      " 29  concave points_worst     569 non-null    float64\n",
      " 30  symmetry_worst           569 non-null    float64\n",
      " 31  fractal_dimension_worst  569 non-null    float64\n",
      " 32  Unnamed: 32              0 non-null      float64\n",
      "dtypes: float64(31), int64(1), object(1)\n",
      "memory usage: 146.8+ KB\n"
     ]
    }
   ],
   "source": [
    "cancer = pd.read_csv('Cancer_Data.csv')\n",
    "cancer.info()"
   ],
   "metadata": {
    "collapsed": false,
    "ExecuteTime": {
     "end_time": "2024-05-27T21:56:17.243030Z",
     "start_time": "2024-05-27T21:56:17.113208Z"
    }
   },
   "id": "cd62cf28bee43420",
   "execution_count": 172
  },
  {
   "cell_type": "code",
   "outputs": [
    {
     "name": "stdout",
     "output_type": "stream",
     "text": [
      "<class 'pandas.core.frame.DataFrame'>\n",
      "RangeIndex: 569 entries, 0 to 568\n",
      "Data columns (total 31 columns):\n",
      " #   Column                   Non-Null Count  Dtype  \n",
      "---  ------                   --------------  -----  \n",
      " 0   diagnosis                569 non-null    object \n",
      " 1   radius_mean              569 non-null    float64\n",
      " 2   texture_mean             569 non-null    float64\n",
      " 3   perimeter_mean           569 non-null    float64\n",
      " 4   area_mean                569 non-null    float64\n",
      " 5   smoothness_mean          569 non-null    float64\n",
      " 6   compactness_mean         569 non-null    float64\n",
      " 7   concavity_mean           569 non-null    float64\n",
      " 8   concave points_mean      569 non-null    float64\n",
      " 9   symmetry_mean            569 non-null    float64\n",
      " 10  fractal_dimension_mean   569 non-null    float64\n",
      " 11  radius_se                569 non-null    float64\n",
      " 12  texture_se               569 non-null    float64\n",
      " 13  perimeter_se             569 non-null    float64\n",
      " 14  area_se                  569 non-null    float64\n",
      " 15  smoothness_se            569 non-null    float64\n",
      " 16  compactness_se           569 non-null    float64\n",
      " 17  concavity_se             569 non-null    float64\n",
      " 18  concave points_se        569 non-null    float64\n",
      " 19  symmetry_se              569 non-null    float64\n",
      " 20  fractal_dimension_se     569 non-null    float64\n",
      " 21  radius_worst             569 non-null    float64\n",
      " 22  texture_worst            569 non-null    float64\n",
      " 23  perimeter_worst          569 non-null    float64\n",
      " 24  area_worst               569 non-null    float64\n",
      " 25  smoothness_worst         569 non-null    float64\n",
      " 26  compactness_worst        569 non-null    float64\n",
      " 27  concavity_worst          569 non-null    float64\n",
      " 28  concave points_worst     569 non-null    float64\n",
      " 29  symmetry_worst           569 non-null    float64\n",
      " 30  fractal_dimension_worst  569 non-null    float64\n",
      "dtypes: float64(30), object(1)\n",
      "memory usage: 137.9+ KB\n"
     ]
    }
   ],
   "source": [
    "cancer = cancer.drop(['id', 'Unnamed: 32'], axis = 1)\n",
    "cancer.info()"
   ],
   "metadata": {
    "collapsed": false,
    "ExecuteTime": {
     "end_time": "2024-05-27T21:56:19.398930Z",
     "start_time": "2024-05-27T21:56:19.377351Z"
    }
   },
   "id": "28363266d30c714b",
   "execution_count": 173
  },
  {
   "cell_type": "markdown",
   "source": [
    "Mozemo zakljuciti da nema nestalih vrednosti ostalo je jos da proverimo da li ima duplikata i da zamenimo stringove u brojeve."
   ],
   "metadata": {
    "collapsed": false
   },
   "id": "6b8c4964ee60711b"
  },
  {
   "cell_type": "code",
   "outputs": [
    {
     "name": "stdout",
     "output_type": "stream",
     "text": [
      "<class 'pandas.core.frame.DataFrame'>\n",
      "RangeIndex: 569 entries, 0 to 568\n",
      "Data columns (total 31 columns):\n",
      " #   Column                   Non-Null Count  Dtype  \n",
      "---  ------                   --------------  -----  \n",
      " 0   diagnosis                569 non-null    int64  \n",
      " 1   radius_mean              569 non-null    float64\n",
      " 2   texture_mean             569 non-null    float64\n",
      " 3   perimeter_mean           569 non-null    float64\n",
      " 4   area_mean                569 non-null    float64\n",
      " 5   smoothness_mean          569 non-null    float64\n",
      " 6   compactness_mean         569 non-null    float64\n",
      " 7   concavity_mean           569 non-null    float64\n",
      " 8   concave points_mean      569 non-null    float64\n",
      " 9   symmetry_mean            569 non-null    float64\n",
      " 10  fractal_dimension_mean   569 non-null    float64\n",
      " 11  radius_se                569 non-null    float64\n",
      " 12  texture_se               569 non-null    float64\n",
      " 13  perimeter_se             569 non-null    float64\n",
      " 14  area_se                  569 non-null    float64\n",
      " 15  smoothness_se            569 non-null    float64\n",
      " 16  compactness_se           569 non-null    float64\n",
      " 17  concavity_se             569 non-null    float64\n",
      " 18  concave points_se        569 non-null    float64\n",
      " 19  symmetry_se              569 non-null    float64\n",
      " 20  fractal_dimension_se     569 non-null    float64\n",
      " 21  radius_worst             569 non-null    float64\n",
      " 22  texture_worst            569 non-null    float64\n",
      " 23  perimeter_worst          569 non-null    float64\n",
      " 24  area_worst               569 non-null    float64\n",
      " 25  smoothness_worst         569 non-null    float64\n",
      " 26  compactness_worst        569 non-null    float64\n",
      " 27  concavity_worst          569 non-null    float64\n",
      " 28  concave points_worst     569 non-null    float64\n",
      " 29  symmetry_worst           569 non-null    float64\n",
      " 30  fractal_dimension_worst  569 non-null    float64\n",
      "dtypes: float64(30), int64(1)\n",
      "memory usage: 137.9 KB\n"
     ]
    },
    {
     "name": "stderr",
     "output_type": "stream",
     "text": [
      "C:\\Users\\Korisnik\\AppData\\Local\\Temp\\ipykernel_7924\\680516308.py:1: FutureWarning: Downcasting behavior in `replace` is deprecated and will be removed in a future version. To retain the old behavior, explicitly call `result.infer_objects(copy=False)`. To opt-in to the future behavior, set `pd.set_option('future.no_silent_downcasting', True)`\n",
      "  cancer['diagnosis'] = cancer['diagnosis'].replace({'M':1,'B':0})\n"
     ]
    }
   ],
   "source": [
    "\n",
    "cancer['diagnosis'] = cancer['diagnosis'].replace({'M':1,'B':0})\n",
    "cancer.info()"
   ],
   "metadata": {
    "collapsed": false,
    "ExecuteTime": {
     "end_time": "2024-05-27T21:56:30.194187Z",
     "start_time": "2024-05-27T21:56:30.162524Z"
    }
   },
   "id": "dd0cf3c49cc5da81",
   "execution_count": 174
  },
  {
   "cell_type": "code",
   "outputs": [
    {
     "data": {
      "text/plain": "0"
     },
     "execution_count": 175,
     "metadata": {},
     "output_type": "execute_result"
    }
   ],
   "source": [
    "cancer.duplicated().sum()\n"
   ],
   "metadata": {
    "collapsed": false,
    "ExecuteTime": {
     "end_time": "2024-05-27T21:57:03.412396Z",
     "start_time": "2024-05-27T21:57:03.366358Z"
    }
   },
   "id": "23d76825bf7622f2",
   "execution_count": 175
  },
  {
   "cell_type": "markdown",
   "source": [
    "Da bismo proverili anomalije u skupu postoje dve metode koje cu koristi: Z-score i IsolationForest algoritam"
   ],
   "metadata": {
    "collapsed": false
   },
   "id": "3a8f9250be84613b"
  },
  {
   "cell_type": "code",
   "outputs": [
    {
     "name": "stdout",
     "output_type": "stream",
     "text": [
      "broj anomalija: 34\n",
      "(535, 31) (569, 31) (34, 31)\n"
     ]
    }
   ],
   "source": [
    "import pandas as pd\n",
    "import numpy as np\n",
    "\n",
    "def zscore_anomalije(df, threshold):\n",
    "\n",
    "    numeric_columns = df.select_dtypes(include='number').columns\n",
    "    z_scores = np.abs(df[numeric_columns].apply(lambda x: (x - x.mean()) / x.std()))\n",
    "    outlier_indices = np.where(np.any(z_scores > threshold, axis=1))[0]\n",
    "    \n",
    "    \n",
    "    anomalies = df.iloc[outlier_indices]\n",
    "    \n",
    "    \n",
    "    df_cleaned = df.drop(outlier_indices)\n",
    "    \n",
    "    return df_cleaned, anomalies\n",
    "\n",
    "\n",
    "cancer_cleaned, anomalies = zscore_anomalije(cancer, threshold=4)\n",
    "\n",
    "\n",
    "print(f\"broj anomalija: {len(anomalies)}\")\n",
    "print(cancer_cleaned.shape,cancer.shape,anomalies.shape)\n"
   ],
   "metadata": {
    "collapsed": false,
    "ExecuteTime": {
     "end_time": "2024-05-27T21:57:08.800874Z",
     "start_time": "2024-05-27T21:57:08.704896Z"
    }
   },
   "id": "54e5796520a186c7",
   "execution_count": 176
  },
  {
   "cell_type": "code",
   "outputs": [
    {
     "data": {
      "text/plain": "<Figure size 1000x600 with 1 Axes>",
      "image/png": "[encoded data removed]"
     },
     "metadata": {},
     "output_type": "display_data"
    }
   ],
   "source": [
    "import matplotlib.pyplot as plt\n",
    "\n",
    "# Specify the column name you want to analyze\n",
    "column_name = 'area_worst'\n",
    "\n",
    "# Plotting z-score anomalies for the specified column\n",
    "plt.figure(figsize=(10, 6))\n",
    "plt.scatter(cancer_cleaned.index, cancer_cleaned[column_name], color='blue', label='Regular Data')\n",
    "plt.scatter(anomalies.index, anomalies[column_name], color='red', label='Anomalies')\n",
    "plt.xlabel('Index')\n",
    "plt.ylabel(column_name)\n",
    "plt.title('Z-Score Anomalies for {}'.format(column_name))\n",
    "plt.legend()\n",
    "plt.show()\n"
   ],
   "metadata": {
    "collapsed": false,
    "ExecuteTime": {
     "end_time": "2024-05-27T21:57:12.856757Z",
     "start_time": "2024-05-27T21:57:12.037287Z"
    }
   },
   "id": "6f48c92ec25c13e7",
   "execution_count": 177
  },
  {
   "cell_type": "markdown",
   "source": [
    "Vidimo da vrednosti koje vidno treba da budu oznacene crvenom bojom i jesu. Napomena: Neke tacke u sredini su crvene zato sto se ovde plotuje cela kolona dataframe: \"anomalije\", a ne mora da znaci da je taj ceo red bio izbacen zbog tog atributa"
   ],
   "metadata": {
    "collapsed": false
   },
   "id": "6969e3199e586028"
  },
  {
   "cell_type": "code",
   "outputs": [
    {
     "name": "stdout",
     "output_type": "stream",
     "text": [
      "(569, 31)\n"
     ]
    },
    {
     "data": {
      "text/plain": "(29, 31)"
     },
     "execution_count": 180,
     "metadata": {},
     "output_type": "execute_result"
    }
   ],
   "source": [
    "iso_cancer = cancer.select_dtypes(include=['number'])\n",
    "print(iso_cancer.shape)\n",
    "iso_forest = IsolationForest(contamination=0.05) \n",
    "preds = iso_forest.fit_predict(iso_cancer)\n",
    "anomalije_iso = iso_cancer[preds == -1]\n",
    "anomalije_iso.shape"
   ],
   "metadata": {
    "collapsed": false,
    "ExecuteTime": {
     "end_time": "2024-05-27T21:57:58.502569Z",
     "start_time": "2024-05-27T21:57:58.243285Z"
    }
   },
   "id": "d9a57c034859fba7",
   "execution_count": 180
  },
  {
   "cell_type": "code",
   "outputs": [
    {
     "data": {
      "text/plain": "(540, 31)"
     },
     "execution_count": 181,
     "metadata": {},
     "output_type": "execute_result"
    }
   ],
   "source": [
    "dataset_cleaned_iso = cancer[preds != -1]\n",
    "dataset_cleaned_iso.shape"
   ],
   "metadata": {
    "collapsed": false,
    "ExecuteTime": {
     "end_time": "2024-05-27T21:59:33.498610Z",
     "start_time": "2024-05-27T21:59:33.390156Z"
    }
   },
   "id": "ef9c8018c77ca93b",
   "execution_count": 181
  },
  {
   "cell_type": "markdown",
   "source": [
    "Vidimo da nam je iso algoritam ostavio malo veci broj podataka tako da cemo raditi sa njim, u slucaju da rezultati ne budu dobri, pokusacemo sa Z-score podacima"
   ],
   "metadata": {
    "collapsed": false
   },
   "id": "7839791a1063e1ad"
  },
  {
   "cell_type": "code",
   "outputs": [],
   "source": [
    "dataset_cleaned_iso.to_csv('cleaned_data.csv', index=False)"
   ],
   "metadata": {
    "collapsed": false,
    "ExecuteTime": {
     "end_time": "2024-05-27T22:02:08.147256Z",
     "start_time": "2024-05-27T22:02:07.962328Z"
    }
   },
   "id": "ffd7336868b4e3ab",
   "execution_count": 182
  },
  {
   "cell_type": "markdown",
   "source": [],
   "metadata": {
    "collapsed": false
   },
   "id": "2150f71c87708459"
  }
 ],
 "metadata": {
  "kernelspec": {
   "display_name": "Python 3",
   "language": "python",
   "name": "python3"
  },
  "language_info": {
   "codemirror_mode": {
    "name": "ipython",
    "version": 2
   },
   "file_extension": ".py",
   "mimetype": "text/x-python",
   "name": "python",
   "nbconvert_exporter": "python",
   "pygments_lexer": "ipython2",
   "version": "2.7.6"
  }
 },
 "nbformat": 4,
 "nbformat_minor": 5
}
